{
 "cells": [
  {
   "cell_type": "code",
   "execution_count": 1,
   "metadata": {},
   "outputs": [],
   "source": [
    "### Pandas Basics ###\n",
    "# link: https://www.youtube.com/watch?v=e60ItwlZTKM"
   ]
  },
  {
   "cell_type": "code",
   "execution_count": 2,
   "metadata": {},
   "outputs": [],
   "source": [
    "def header(msg):\n",
    "    print('-'*50)\n",
    "    print(msg)\n",
    "    print('-'*50)"
   ]
  },
  {
   "cell_type": "code",
   "execution_count": 3,
   "metadata": {},
   "outputs": [
    {
     "name": "stdout",
     "output_type": "stream",
     "text": [
      "--------------------------------------------------\n",
      "This will be used to identify parts\n",
      "--------------------------------------------------\n"
     ]
    }
   ],
   "source": [
    "header(\"This will be used to identify parts\")"
   ]
  },
  {
   "cell_type": "code",
   "execution_count": 4,
   "metadata": {},
   "outputs": [],
   "source": [
    "### Important Libraries\n",
    "import numpy as np\n",
    "import pandas as pd\n",
    "#Matplotlib will be added later"
   ]
  },
  {
   "cell_type": "code",
   "execution_count": 5,
   "metadata": {},
   "outputs": [],
   "source": [
    "### Creating a dataframe (Hard-coding)\n",
    "mydf = pd.DataFrame(\n",
    "    [['Ocak', 1,4,5,6,1,32,63],\n",
    "     ['Subat', 1,23,4,5,67,81,12],\n",
    "     ['Mart', 1,4,2,6,6,75,5],\n",
    "     ['Nisan', 1,2,3,45,5,6,1],\n",
    "     ['Mayis', 4,5,6,7,1,2,3],\n",
    "     ['Haziran', 1,3,4,5,6,1,2],\n",
    "     ['Temmuz', 1,4,5,12,3,4,5],\n",
    "     ['Ağustos', 1,5,4,5,6,7,1],\n",
    "     ['Eylul', 1,5,3,6,3,6,1],\n",
    "     ['Ekim', 1,4,2,4,5,6,7],\n",
    "     ['Kasim', 1,4,5,6,1,2,3],\n",
    "     ['Aralik', 1,4,5,2,4,56,1]],\n",
    "    index=[0,1,2,3,4,5,6,7,8,9,10,11],\n",
    "    columns=['ay', 'avg_high', 'avg_low', 'recordsmt', 'kamil2', 'baskaisim', 'altinci', 'veSon'])"
   ]
  },
  {
   "cell_type": "code",
   "execution_count": 6,
   "metadata": {},
   "outputs": [
    {
     "name": "stdout",
     "output_type": "stream",
     "text": [
      "--------------------------------------------------\n",
      "I will print the dataset now\n",
      "--------------------------------------------------\n",
      "         ay  avg_high  avg_low  recordsmt  kamil2  baskaisim  altinci  veSon\n",
      "0      Ocak         1        4          5       6          1       32     63\n",
      "1     Subat         1       23          4       5         67       81     12\n",
      "2      Mart         1        4          2       6          6       75      5\n",
      "3     Nisan         1        2          3      45          5        6      1\n",
      "4     Mayis         4        5          6       7          1        2      3\n",
      "5   Haziran         1        3          4       5          6        1      2\n",
      "6    Temmuz         1        4          5      12          3        4      5\n",
      "7   Ağustos         1        5          4       5          6        7      1\n",
      "8     Eylul         1        5          3       6          3        6      1\n",
      "9      Ekim         1        4          2       4          5        6      7\n",
      "10    Kasim         1        4          5       6          1        2      3\n",
      "11   Aralik         1        4          5       2          4       56      1\n"
     ]
    }
   ],
   "source": [
    "header('I will print the dataset now')\n",
    "print(mydf)\n",
    "#print(mydf.head())\n",
    "#print(mydf.tail())"
   ]
  },
  {
   "cell_type": "code",
   "execution_count": 7,
   "metadata": {},
   "outputs": [],
   "source": [
    "###Reading dataset from file\n",
    "#df=pd.read_csv(\"filename\")"
   ]
  },
  {
   "cell_type": "code",
   "execution_count": 8,
   "metadata": {},
   "outputs": [
    {
     "name": "stdout",
     "output_type": "stream",
     "text": [
      "--------------------------------------------------\n",
      "What are the datatypes?\n",
      "--------------------------------------------------\n",
      "ay           object\n",
      "avg_high      int64\n",
      "avg_low       int64\n",
      "recordsmt     int64\n",
      "kamil2        int64\n",
      "baskaisim     int64\n",
      "altinci       int64\n",
      "veSon         int64\n",
      "dtype: object\n",
      "--------------------------------------------------\n",
      "What are the indexes?\n",
      "--------------------------------------------------\n",
      "Int64Index([0, 1, 2, 3, 4, 5, 6, 7, 8, 9, 10, 11], dtype='int64')\n",
      "--------------------------------------------------\n",
      "What are the columns?\n",
      "--------------------------------------------------\n",
      "Index(['ay', 'avg_high', 'avg_low', 'recordsmt', 'kamil2', 'baskaisim',\n",
      "       'altinci', 'veSon'],\n",
      "      dtype='object')\n",
      "--------------------------------------------------\n",
      "What are the values?\n",
      "--------------------------------------------------\n",
      "[['Ocak' 1 4 5 6 1 32 63]\n",
      " ['Subat' 1 23 4 5 67 81 12]\n",
      " ['Mart' 1 4 2 6 6 75 5]\n",
      " ['Nisan' 1 2 3 45 5 6 1]\n",
      " ['Mayis' 4 5 6 7 1 2 3]\n",
      " ['Haziran' 1 3 4 5 6 1 2]\n",
      " ['Temmuz' 1 4 5 12 3 4 5]\n",
      " ['Ağustos' 1 5 4 5 6 7 1]\n",
      " ['Eylul' 1 5 3 6 3 6 1]\n",
      " ['Ekim' 1 4 2 4 5 6 7]\n",
      " ['Kasim' 1 4 5 6 1 2 3]\n",
      " ['Aralik' 1 4 5 2 4 56 1]]\n"
     ]
    }
   ],
   "source": [
    "header('What are the datatypes?')\n",
    "print(mydf.dtypes)\n",
    "\n",
    "header('What are the indexes?')\n",
    "print(mydf.index)\n",
    "\n",
    "header('What are the columns?')\n",
    "print(mydf.columns)\n",
    "\n",
    "header('What are the values?')\n",
    "print(mydf.values)\n"
   ]
  },
  {
   "cell_type": "code",
   "execution_count": 10,
   "metadata": {},
   "outputs": [
    {
     "name": "stdout",
     "output_type": "stream",
     "text": [
      "--------------------------------------------------\n",
      "Statistics\n",
      "--------------------------------------------------\n",
      "           count       mean        std  min  25%  50%    75%   max\n",
      "avg_high    12.0   1.250000   0.866025  1.0  1.0  1.0   1.00   4.0\n",
      "avg_low     12.0   5.583333   5.550730  2.0  4.0  4.0   5.00  23.0\n",
      "recordsmt   12.0   4.000000   1.279204  2.0  3.0  4.0   5.00   6.0\n",
      "kamil2      12.0   9.083333  11.547989  2.0  5.0  6.0   6.25  45.0\n",
      "baskaisim   12.0   9.000000  18.369936  1.0  2.5  4.5   6.00  67.0\n",
      "altinci     12.0  23.166667  30.283009  1.0  3.5  6.0  38.00  81.0\n",
      "veSon       12.0   8.666667  17.416467  1.0  1.0  3.0   5.50  63.0\n"
     ]
    }
   ],
   "source": [
    "##Statistical summary of the dataframe\n",
    "header(\"Statistics\")\n",
    "print(mydf.describe().T)"
   ]
  },
  {
   "cell_type": "code",
   "execution_count": 23,
   "metadata": {},
   "outputs": [
    {
     "name": "stdout",
     "output_type": "stream",
     "text": [
      "--------------------------------------------------\n",
      "We will sort according to avg_low, starting from low and goes to high\n",
      "--------------------------------------------------\n",
      "         ay  avg_high  avg_low  recordsmt  kamil2  baskaisim  altinci  veSon\n",
      "3     Nisan         1        2          3      45          5        6      1\n",
      "5   Haziran         1        3          4       5          6        1      2\n",
      "0      Ocak         1        4          5       6          1       32     63\n",
      "2      Mart         1        4          2       6          6       75      5\n",
      "6    Temmuz         1        4          5      12          3        4      5\n",
      "9      Ekim         1        4          2       4          5        6      7\n",
      "10    Kasim         1        4          5       6          1        2      3\n",
      "11   Aralik         1        4          5       2          4       56      1\n",
      "4     Mayis         4        5          6       7          1        2      3\n",
      "7   Ağustos         1        5          4       5          6        7      1\n",
      "8     Eylul         1        5          3       6          3        6      1\n",
      "1     Subat         1       23          4       5         67       81     12\n"
     ]
    }
   ],
   "source": [
    "### Sorting Data\n",
    "header('We will sort according to avg_low, starting from low and goes to high')\n",
    "print(mydf.sort_values('avg_low', ascending=True))"
   ]
  },
  {
   "cell_type": "code",
   "execution_count": 30,
   "metadata": {},
   "outputs": [
    {
     "name": "stdout",
     "output_type": "stream",
     "text": [
      "--------------------------------------------------\n",
      "slicing column, 'avg_low' \n",
      "--------------------------------------------------\n",
      "0      4\n",
      "1     23\n",
      "2      4\n",
      "3      2\n",
      "4      5\n",
      "5      3\n",
      "6      4\n",
      "7      5\n",
      "8      5\n",
      "9      4\n",
      "10     4\n",
      "11     4\n",
      "Name: avg_low, dtype: int64\n",
      "--------------------------------------------------\n",
      "slicing column, 'avg_low' second method\n",
      "--------------------------------------------------\n",
      "0      4\n",
      "1     23\n",
      "2      4\n",
      "3      2\n",
      "4      5\n",
      "5      3\n",
      "6      4\n",
      "7      5\n",
      "8      5\n",
      "9      4\n",
      "10     4\n",
      "11     4\n",
      "Name: avg_low, dtype: int64\n"
     ]
    }
   ],
   "source": [
    "### Slicing Columns\n",
    "header('slicing column, \\'avg_low\\' ')\n",
    "print(mydf.avg_low)\n",
    "header('slicing column, \\'avg_low\\' second method')\n",
    "print(mydf['avg_low'])"
   ]
  },
  {
   "cell_type": "code",
   "execution_count": 38,
   "metadata": {},
   "outputs": [
    {
     "name": "stdout",
     "output_type": "stream",
     "text": [
      "--------------------------------------------------\n",
      "Slicing multiple columns\n",
      "--------------------------------------------------\n",
      "    avg_low  avg_high\n",
      "0         4         1\n",
      "1        23         1\n",
      "2         4         1\n",
      "3         2         1\n",
      "4         5         4\n",
      "5         3         1\n",
      "6         4         1\n",
      "7         5         1\n",
      "8         5         1\n",
      "9         4         1\n",
      "10        4         1\n",
      "11        4         1\n",
      "--------------------------------------------------\n",
      "Slicing multiple columns second method\n",
      "--------------------------------------------------\n",
      "    avg_low  avg_high\n",
      "0         4         1\n",
      "1        23         1\n",
      "2         4         1\n",
      "3         2         1\n",
      "4         5         4\n",
      "5         3         1\n",
      "6         4         1\n",
      "7         5         1\n",
      "8         5         1\n",
      "9         4         1\n",
      "10        4         1\n",
      "11        4         1\n",
      "--------------------------------------------------\n",
      "Slicing multiple columns with specified rows\n",
      "--------------------------------------------------\n",
      "   avg_low  avg_high\n",
      "2        4         1\n",
      "3        2         1\n",
      "--------------------------------------------------\n",
      "Slicing single row with single column(gets single data)\n",
      "--------------------------------------------------\n",
      "avg_low    2\n",
      "Name: 3, dtype: object\n"
     ]
    }
   ],
   "source": [
    "### Slicing two columns\n",
    "header(\"Slicing multiple columns\")\n",
    "print(mydf[['avg_low', 'avg_high']])\n",
    "header(\"Slicing multiple columns second method\")\n",
    "print(mydf.loc[:,['avg_low', 'avg_high']])\n",
    "header(\"Slicing multiple columns with specified rows\")\n",
    "print(mydf.loc[2:3,['avg_low', 'avg_high']])\n",
    "header(\"Slicing single row with single column(gets single data)\")\n",
    "print(mydf.loc[3,['avg_low']])"
   ]
  },
  {
   "cell_type": "code",
   "execution_count": 29,
   "metadata": {},
   "outputs": [
    {
     "name": "stdout",
     "output_type": "stream",
     "text": [
      "--------------------------------------------------\n",
      "Slicing Rows\n",
      "--------------------------------------------------\n",
      "      ay  avg_high  avg_low  recordsmt  kamil2  baskaisim  altinci  veSon\n",
      "2   Mart         1        4          2       6          6       75      5\n",
      "3  Nisan         1        2          3      45          5        6      1\n"
     ]
    }
   ],
   "source": [
    "### Slicing Rows (According to Index)\n",
    "header(\"Slicing Rows\")\n",
    "print(mydf[2:4]) #Slices 2 to 3"
   ]
  },
  {
   "cell_type": "code",
   "execution_count": 41,
   "metadata": {},
   "outputs": [
    {
     "name": "stdout",
     "output_type": "stream",
     "text": [
      "      ay  avg_high  avg_low  recordsmt\n",
      "3  Nisan         1        2          3\n",
      "4  Mayis         4        5          6\n"
     ]
    }
   ],
   "source": [
    "# Index location .iloc\n",
    "print(mydf.iloc[3:5,[0,1,2,3]]) #prints indexes 3 to 4 with columns 0-1-2-3"
   ]
  },
  {
   "cell_type": "code",
   "execution_count": 50,
   "metadata": {},
   "outputs": [
    {
     "name": "stdout",
     "output_type": "stream",
     "text": [
      "--------------------------------------------------\n",
      "Filtering first method, prints the values\n",
      "--------------------------------------------------\n",
      "       ay  avg_high  avg_low  recordsmt  kamil2  baskaisim  altinci  veSon\n",
      "0    Ocak         1        4          5       6          1       32     63\n",
      "1   Subat         1       23          4       5         67       81     12\n",
      "2    Mart         1        4          2       6          6       75      5\n",
      "6  Temmuz         1        4          5      12          3        4      5\n",
      "9    Ekim         1        4          2       4          5        6      7\n",
      "--------------------------------------------------\n",
      "Filtering second method prints boolean\n",
      "--------------------------------------------------\n",
      "0      True\n",
      "1      True\n",
      "2      True\n",
      "3     False\n",
      "4     False\n",
      "5     False\n",
      "6      True\n",
      "7     False\n",
      "8     False\n",
      "9      True\n",
      "10    False\n",
      "11    False\n",
      "Name: veSon, dtype: bool\n",
      "--------------------------------------------------\n",
      "Filtering third method\n",
      "--------------------------------------------------\n",
      "       ay  avg_high  avg_low  recordsmt  kamil2  baskaisim  altinci  veSon\n",
      "1   Subat         1       23          4       5         67       81     12\n",
      "6  Temmuz         1        4          5      12          3        4      5\n"
     ]
    }
   ],
   "source": [
    "# Filtering data\n",
    "header('Filtering first method, prints the values')\n",
    "print(mydf[mydf.veSon>=5])\n",
    "header('Filtering second method prints boolean')\n",
    "print(mydf['veSon']>=5)\n",
    "header('Filtering third method')\n",
    "print(mydf[mydf['ay'].isin(['Subat', 'Temmuz'])]) "
   ]
  },
  {
   "cell_type": "code",
   "execution_count": 65,
   "metadata": {},
   "outputs": [
    {
     "name": "stdout",
     "output_type": "stream",
     "text": [
      "--------------------------------------------------\n",
      "assigning a value 3\n",
      "--------------------------------------------------\n",
      "       ay  avg_high  avg_low  recordsmt  kamil2  baskaisim  altinci  veSon\n",
      "9    Ekim       3.0        5          2     NaN          5        6      7\n",
      "10  Kasim       1.0        5          5     3.0          1        2      3\n",
      "--------------------------------------------------\n",
      "assigning value NAN\n",
      "--------------------------------------------------\n",
      "       ay  avg_high  avg_low  recordsmt  kamil2  baskaisim  altinci  veSon\n",
      "9    Ekim       NaN        5          2     NaN          5        6      7\n",
      "10  Kasim       1.0        5          5     3.0          1        2      3\n",
      "--------------------------------------------------\n",
      "Changing whole column \n",
      "--------------------------------------------------\n",
      "      ay  avg_high  avg_low  recordsmt  kamil2  baskaisim  altinci  veSon\n",
      "0   Ocak       1.0        5          5     3.0          1       32     63\n",
      "1  Subat       1.0        5          4     3.0         67       81     12\n",
      "2   Mart       1.0        5          2     3.0          6       75      5\n",
      "3  Nisan       1.0        5          3     3.0          5        6      1\n",
      "4  Mayis       4.0        5          6     4.5          1        2      3\n",
      "--------------------------------------------------\n",
      "Changing one row to avarage value of two different columns\n",
      "--------------------------------------------------\n",
      "      ay  avg_high  avg_low  recordsmt  kamil2  baskaisim  altinci  veSon\n",
      "0   Ocak       1.0        5          5     3.0          1       32     63\n",
      "1  Subat       1.0        5          4     3.0         67       81     12\n",
      "2   Mart       1.0        5          2     3.0          6       75      5\n",
      "3  Nisan       1.0        5          3     3.0          5        6      1\n",
      "4  Mayis       4.0        5          6     4.5          1        2      3\n"
     ]
    }
   ],
   "source": [
    "##Assignment\n",
    "header('assigning a value 3')\n",
    "mydf.loc[9,['avg_high']] = 3\n",
    "print(mydf.iloc[9:11])\n",
    "\n",
    "header(\"assigning value NAN\")\n",
    "mydf.loc[9,['avg_high']] = np.nan\n",
    "print(mydf.iloc[9:11])\n",
    "\n",
    "header(\"Changing whole column \")\n",
    "mydf.loc[:,'avg_low'] = np.array([5]*  len(mydf))\n",
    "print(mydf.head())\n",
    "\n",
    "header(\"Changing one row to avarage value of two different columns\")\n",
    "mydf['kamil2'] = (mydf.avg_low + mydf.avg_high) / 2\n",
    "print(mydf.head())"
   ]
  },
  {
   "cell_type": "code",
   "execution_count": 70,
   "metadata": {},
   "outputs": [
    {
     "name": "stdout",
     "output_type": "stream",
     "text": [
      "--------------------------------------------------\n",
      "Renaming one column\n",
      "--------------------------------------------------\n",
      "      ay  deger1  deger2  deger3  deger4  deger5  deger6  deger7\n",
      "0   Ocak     1.0       5       5     3.0       1      32      63\n",
      "1  Subat     1.0       5       4     3.0      67      81      12\n",
      "2   Mart     1.0       5       2     3.0       6      75       5\n",
      "3  Nisan     1.0       5       3     3.0       5       6       1\n",
      "4  Mayis     4.0       5       6     4.5       1       2       3\n",
      "--------------------------------------------------\n",
      "Renaming all columns\n",
      "--------------------------------------------------\n",
      "      ay  deger1  deger2  deger3  deger4  deger5  deger6  deger7\n",
      "0   Ocak     1.0       5       5     3.0       1      32      63\n",
      "1  Subat     1.0       5       4     3.0      67      81      12\n",
      "2   Mart     1.0       5       2     3.0       6      75       5\n",
      "3  Nisan     1.0       5       3     3.0       5       6       1\n",
      "4  Mayis     4.0       5       6     4.5       1       2       3\n"
     ]
    }
   ],
   "source": [
    "### Renaming columns\n",
    "header(\"Renaming one column\")\n",
    "mydf.rename(columns = {'recordsmt':'anothername'}, inplace = True ) #youcan get rid off inplace if mydf=mydf.rename()\n",
    "print(mydf.head())\n",
    "\n",
    "header(\"Renaming all columns\")\n",
    "mydf.columns= [\"ay\",\"deger1\", \"deger2\", \"deger3\", \"deger4\", \"deger5\", \"deger6\", \"deger7\" ]\n",
    "print(mydf.head())"
   ]
  },
  {
   "cell_type": "code",
   "execution_count": 72,
   "metadata": {},
   "outputs": [
    {
     "name": "stdout",
     "output_type": "stream",
     "text": [
      "0 Ocak 1.0\n",
      "1 Subat 1.0\n",
      "2 Mart 1.0\n",
      "3 Nisan 1.0\n",
      "4 Mayis 4.0\n",
      "5 Haziran 1.0\n",
      "6 Temmuz 1.0\n",
      "7 Ağustos 1.0\n",
      "8 Eylul 1.0\n",
      "9 Ekim nan\n",
      "10 Kasim 1.0\n",
      "11 Aralik 1.0\n"
     ]
    }
   ],
   "source": [
    "### Iterate a dataframe\n",
    "for index, row in mydf.iterrows():\n",
    "    print(index, row[\"ay\"], row[\"deger1\"])"
   ]
  },
  {
   "cell_type": "code",
   "execution_count": null,
   "metadata": {},
   "outputs": [],
   "source": [
    "### Write to csv file\n",
    "mydf.to_csv(\"filename.csv\")"
   ]
  },
  {
   "cell_type": "code",
   "execution_count": 61,
   "metadata": {},
   "outputs": [
    {
     "data": {
      "text/plain": [
       "12"
      ]
     },
     "execution_count": 61,
     "metadata": {},
     "output_type": "execute_result"
    }
   ],
   "source": [
    "### Extra notes\n",
    "#you can find how many rows there are by:\n",
    "print(len(mydf))\n",
    "\n"
   ]
  },
  {
   "cell_type": "code",
   "execution_count": null,
   "metadata": {},
   "outputs": [],
   "source": []
  }
 ],
 "metadata": {
  "kernelspec": {
   "display_name": "Python 3",
   "language": "python",
   "name": "python3"
  },
  "language_info": {
   "codemirror_mode": {
    "name": "ipython",
    "version": 3
   },
   "file_extension": ".py",
   "mimetype": "text/x-python",
   "name": "python",
   "nbconvert_exporter": "python",
   "pygments_lexer": "ipython3",
   "version": "3.6.9"
  }
 },
 "nbformat": 4,
 "nbformat_minor": 4
}
