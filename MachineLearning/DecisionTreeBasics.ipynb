{
 "cells": [
  {
   "cell_type": "code",
   "execution_count": 60,
   "metadata": {},
   "outputs": [],
   "source": [
    "### My Decision Tree ###\n",
    "#link: https://www.youtube.com/watch?v=LDRbO9a6XPU\n",
    "import numpy as np\n",
    "import pandas as pd"
   ]
  },
  {
   "cell_type": "code",
   "execution_count": 61,
   "metadata": {},
   "outputs": [],
   "source": [
    "def header(msg):\n",
    "    print('-'*50)\n",
    "    print(msg)\n",
    "    print('-'*50)"
   ]
  },
  {
   "cell_type": "code",
   "execution_count": 62,
   "metadata": {},
   "outputs": [],
   "source": [
    "### Creating Data\n",
    "headerval = [\"color\", \"diameter\", \"label\"]\n",
    "df = pd.DataFrame(\n",
    "    [['Green', 3, 'Apple'],\n",
    "     ['Yellow', 3, 'Apple'],\n",
    "     ['Red', 1, 'Grape'],\n",
    "     ['Red', 1, 'Grape'],\n",
    "     ['Yellow', 3, 'Lemon']],\n",
    "     index = [0,1,2,3,4],\n",
    "     columns = headerval\n",
    ")"
   ]
  },
  {
   "cell_type": "code",
   "execution_count": 63,
   "metadata": {},
   "outputs": [
    {
     "name": "stdout",
     "output_type": "stream",
     "text": [
      "    color  diameter  label\n",
      "0   Green         3  Apple\n",
      "1  Yellow         3  Apple\n",
      "2     Red         1  Grape\n",
      "3     Red         1  Grape\n",
      "4  Yellow         3  Lemon\n"
     ]
    }
   ],
   "source": [
    "print(df.head())\n"
   ]
  },
  {
   "cell_type": "code",
   "execution_count": 67,
   "metadata": {},
   "outputs": [],
   "source": [
    "### What are the possible (unique) values of columns?\n",
    "# Assume they are not numerical\n",
    "def possibleval(column):\n",
    "    posvals = column.unique()\n",
    "    posvalsize = len(posvals)\n",
    "    indexer = 0\n",
    "    changethis = []\n",
    "    changeto = []\n",
    "    for val in posvals:\n",
    "        changethis.append(val)\n",
    "        changeto.append(indexer)\n",
    "        indexer +=1\n",
    "    return changethis, changeto \n",
    "        \n",
    "def makeint(dataframe):\n",
    "    columns = list(dataframe)\n",
    "    size = len(columns)\n",
    "    for i in range(size):\n",
    "        x,y = possibleval(dataframe[columns[i]])\n",
    "        #now change dataframe according to x,y\n",
    "        for index, row in dataframe.iterrows():\n",
    "            for j in range(len(x)):\n",
    "                if(row[columns[i]]==x[j]):\n",
    "                    dataframe.loc[index , [columns[i]]]=y[j]\n",
    "    #print(dataframe)\n",
    "    return dataframe"
   ]
  },
  {
   "cell_type": "code",
   "execution_count": 77,
   "metadata": {},
   "outputs": [
    {
     "name": "stdout",
     "output_type": "stream",
     "text": [
      "  color  diameter label\n",
      "0     0         0     0\n",
      "1     1         0     0\n",
      "2     2         1     1\n",
      "3     2         1     1\n",
      "4     1         0     2\n"
     ]
    }
   ],
   "source": [
    "df= makeint(df)\n",
    "print(df)"
   ]
  },
  {
   "cell_type": "code",
   "execution_count": 76,
   "metadata": {},
   "outputs": [],
   "source": [
    "##Finding lowest gini value: (for root node)\n",
    "class DecisionTree:\n",
    "    def __init__(self, df):\n",
    "        #initial conditions\n",
    "        self.df = df\n",
    "        rootNode = TreeNode(df, 0)\n",
    "        Nodes = [rootNode]\n",
    "\n",
    "    def splitNode(self):\n",
    "        #What is the highest level of nodes (because they are the ones that will split)\n",
    "        highest_lvl = 0\n",
    "        for i in range(len(Nodes)):\n",
    "            if Nodes[i].getLevel > highest_lvl:\n",
    "                highest_lvl = Nodes[i].getLevel()\n",
    "        #Creating array for nodes that will split\n",
    "        splitNodes = []\n",
    "        for i in range(len(Nodes)):\n",
    "            if Nodes.getLevel() == highest_lvl:\n",
    "                splitNodes.append(Nodes[i])\n",
    "                \n",
    "        for i in range(len(splitNodes)):\n",
    "            createdNodes = splitNodes[i].split()\n",
    "            ##Add createdNodes to the Nodes array\n",
    "            \n",
    "            \n",
    "            \n",
    "            \n",
    "    def printTree(self):\n",
    "        pass"
   ]
  },
  {
   "cell_type": "code",
   "execution_count": 72,
   "metadata": {},
   "outputs": [],
   "source": [
    "class TreeNode:\n",
    "    parentNode = []\n",
    "    childNodes = []\n",
    "    def __init__(self, df, level):\n",
    "        self.df = df #Note that this is the available(sliced) dataframe, not whole dataframe.\n",
    "        self.level = level\n",
    "        \n",
    "    def split(self):\n",
    "        #Look for the lowest impurities\n",
    "        question=0 #question must start <= 0 ?\n",
    "        impurities=[]\n",
    "        for j in range(len(df.columns)):\n",
    "            for i in range(len(df[columns[j]].unique))\n",
    "                impurities.append(calculate_gini(df[columns[i]]question))\n",
    "                question+=1\n",
    "            \n",
    "        \n",
    "        \n",
    "        \n",
    "        #arrange df and level\n",
    "        #create child nodes\n",
    "        #add parent node\n",
    "        #return new created nodes to the DecisionTreeObject\n",
    "        \n",
    "    def calculate_gini(self, question):\n",
    "        #what are the values yes to 1,no to 1,yes to 2, no to 2\n",
    "        label_column = df[columns[-1]]\n",
    "        temp_leftnode =[]\n",
    "        temp_rightnode = []\n",
    "        for i in range(len())\n",
    "        \n",
    "        pass\n",
    "    def findimpurities(self):\n",
    "        pass\n",
    "    def printNode(self):\n",
    "        pass\n",
    "    def getLevel(self):\n",
    "        return self.level"
   ]
  },
  {
   "cell_type": "code",
   "execution_count": 73,
   "metadata": {},
   "outputs": [
    {
     "data": {
      "text/plain": [
       "<__main__.DecisionTree at 0x7f74a50c16d8>"
      ]
     },
     "execution_count": 73,
     "metadata": {},
     "output_type": "execute_result"
    }
   ],
   "source": [
    "#Creating Tree Object\n",
    "myTree = DecisionTree(df)\n",
    "myTree"
   ]
  },
  {
   "cell_type": "code",
   "execution_count": 84,
   "metadata": {},
   "outputs": [
    {
     "data": {
      "text/plain": [
       "Index(['color', 'diameter', 'label'], dtype='object')"
      ]
     },
     "execution_count": 84,
     "metadata": {},
     "output_type": "execute_result"
    }
   ],
   "source": [
    "df.columns"
   ]
  },
  {
   "cell_type": "code",
   "execution_count": null,
   "metadata": {},
   "outputs": [],
   "source": []
  },
  {
   "cell_type": "code",
   "execution_count": 4,
   "metadata": {},
   "outputs": [],
   "source": [
    " def calculate_gini(yes_1, no_1, yes_2, no_2):\n",
    "        total_1 = yes_1+no_1\n",
    "        total_2 = yes_2+no_2\n",
    "        total = total_1+total_2\n",
    "        leaf_gini1 = 1-(yes_1/total_1)^2-(no_1/total_1)^2\n",
    "        leaf_gini2 = 1-(yes_2/total_2)^2-(no_2/total_2)^2\n",
    "        weighted_avg = leaf_gini1*total_1/total + leaf_gini2*total_2/total\n",
    "        "
   ]
  },
  {
   "cell_type": "code",
   "execution_count": 9,
   "metadata": {},
   "outputs": [
    {
     "data": {
      "text/plain": [
       "{'Apple', 'Grape', 'Lemon'}"
      ]
     },
     "execution_count": 9,
     "metadata": {},
     "output_type": "execute_result"
    }
   ],
   "source": [
    "possible_values(training_data, 2)"
   ]
  },
  {
   "cell_type": "code",
   "execution_count": null,
   "metadata": {},
   "outputs": [],
   "source": []
  }
 ],
 "metadata": {
  "kernelspec": {
   "display_name": "Python 3",
   "language": "python",
   "name": "python3"
  },
  "language_info": {
   "codemirror_mode": {
    "name": "ipython",
    "version": 3
   },
   "file_extension": ".py",
   "mimetype": "text/x-python",
   "name": "python",
   "nbconvert_exporter": "python",
   "pygments_lexer": "ipython3",
   "version": "3.6.9"
  }
 },
 "nbformat": 4,
 "nbformat_minor": 4
}
